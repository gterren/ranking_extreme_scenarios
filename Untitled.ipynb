{
 "cells": [
  {
   "cell_type": "code",
   "execution_count": 282,
   "id": "c91aa307-57bf-4e5d-8c67-ceea30747b26",
   "metadata": {},
   "outputs": [],
   "source": [
    "import os, glob, csv, bz2, pickle\n",
    "\n",
    "import pandas as pd\n",
    "import numpy as np\n",
    "\n",
    "import matplotlib.pyplot as plt\n",
    "import matplotlib as mpl\n",
    "from matplotlib.patches import Patch\n",
    "from matplotlib.lines import Line2D\n",
    "import matplotlib.colors as colors\n",
    "\n",
    "from itertools import combinations\n",
    "import itertools\n",
    "\n",
    "from time import time\n",
    "from matplotlib import rc\n",
    "import seaborn as sns\n",
    "\n",
    "from scipy import stats\n",
    "from scipy.stats import kendalltau, spearmanr\n",
    "\n",
    "from sklearn.metrics import confusion_matrix, jaccard_score, f1_score, accuracy_score, balanced_accuracy_score\n",
    "\n",
    "def truncate_colormap(cmap, minval=0.0, maxval=1.0, n=100):\n",
    "    new_cmap = colors.LinearSegmentedColormap.from_list(\n",
    "        'trunc({n},{a:.2f},{b:.2f})'.format(n=cmap.name, a=minval, b=maxval),\n",
    "        cmap(np.linspace(minval, maxval, n)))\n",
    "    return new_cmap\n",
    "\n",
    "\n",
    "rc('font',**{'family':'serif','serif':['Computer Modern']})\n",
    "rc('text', usetex = True)\n",
    "\n",
    "plt.rcParams['axes.facecolor'] = 'white'\n",
    "\n",
    "# This is the path to data (stract inside Sim* files)\n",
    "path_to_data   = r\"/Users/Guille/Desktop/extreme_scenarios/data/\"\n",
    "path_to_data   = r\"/Users/Guille/Dropbox/ProcessedDataTexas/vatic_output/Texas-7k/FunctionalDepthsTexas/\"\n",
    "path_to_images = r\"/Users/Guille/Dropbox/ProcessedDataTexas/images/\"\n",
    "path_to_scen   = r'/Users/Guille/Desktop/extreme_scenarios/scenarios/clnSim/'\n",
    "path_to_vatic  = r'/Users/Guille/Desktop/extreme_scenarios/outputs/Texas-7k/'\n",
    "\n",
    "metrics_ = ['BD', 'MBD', 'DQ', 'EXD', 'LID', 'ERD', 'HMD', 'RTD', 'ID', 'RPD']\n",
    "\n",
    "dates_ = ['2018-02-14', '2018-02-13', '2018-08-08', '2018-06-04', '2018-05-25',\n",
    "          '2018-11-13', '2018-09-14', '2018-04-24', '2018-05-10', '2018-04-01',\n",
    "          '2018-12-27', '2018-04-09', '2018-07-22', '2018-07-24', '2018-03-14',\n",
    "          '2018-01-02', '2018-06-30', '2018-02-26', '2018-12-01', '2018-10-17',\n",
    "          '2018-11-02', '2018-10-02', '2018-09-04', '2018-08-18', '2018-01-20']\n",
    "seassons_ = [0, 0, 2, 1, 1, 3, 2, 1, 1, 1, 0, 1, 2, 2, 0, 0, 2, 0, 3, 3, 3, 3, 2, 2, 0]\n",
    "\n",
    "features_ = ['Load [GWh]', 'Solar Generation [MGh]', 'Wind Generation [GWh]', 'VRE Generation [GWh]', 'Net Load [GWh]']\n",
    "vatic_    = ['Total Variable Costs [k$]', 'Total Load Shedding [GWh]', 'Total VRE Curtailment [GWh]', 'Total Reserve Shortfall [GWh]']\n",
    "zones_    = ['Coast', 'East', 'Far West', 'North', 'North Central', 'South', 'South Central', 'West']\n",
    "\n",
    "zones_p_    = ['Coast', 'East', 'Far_West', 'North', 'North_Central', 'South', 'South_Central', 'West']\n",
    "features_p_ = ['Load', 'Solar Generation', 'Wind Generation', 'VRE Generation', 'Net Load']\n",
    "vatic_p_    = ['Operational Costs', 'Load shedding', 'VRE curtailment', 'Rreserve Shortfall']"
   ]
  },
  {
   "cell_type": "code",
   "execution_count": 320,
   "id": "a9a0ba88-6c15-491e-9c9d-724b5292867c",
   "metadata": {},
   "outputs": [
    {
     "name": "stdout",
     "output_type": "stream",
     "text": [
      "(10, 8, 4000)\n",
      "10 8 4000 4\n"
     ]
    }
   ],
   "source": [
    "with open(path_to_data + 'AllAreaZonalFuntionalDepths.pkl', 'rb') as handle:\n",
    "    allZonalFunSidedAUC_ = pickle.load(handle)\n",
    "print(allZonalFunSidedAUC_.shape)\n",
    "\n",
    "N_metrics, N_zones, N_scenarios = allZonalFunSidedAUC_.shape\n",
    "N_days = N_scenarios//1000\n",
    "print(N_metrics, N_zones, N_scenarios, N_days)"
   ]
  },
  {
   "cell_type": "code",
   "execution_count": 351,
   "id": "60deac66-7fce-4b5a-99ae-9cf6484d3b35",
   "metadata": {},
   "outputs": [
    {
     "name": "stdout",
     "output_type": "stream",
     "text": [
      "(10, 5, 4000) (10, 5, 4000)\n",
      "(4, 10, 5, 1000) (4, 10, 5, 1000)\n"
     ]
    }
   ],
   "source": [
    "zones_ = [2, 3, 4, 5, 7]\n",
    "Z_     = allZonalFunSidedAUC_[:, zones_, :]\n",
    "W_     = np.zeros(Z_.shape)\n",
    "\n",
    "for i_metric in range(Z_.shape[0]):\n",
    "    for i_zones in range(Z_.shape[1]):\n",
    "        idx_ = np.argsort(Z_[i_metric, i_zones, :])[:400]\n",
    "        W_[i_metric, i_zones, idx_] = 1.\n",
    "print(W_.shape, Z_.shape)\n",
    "\n",
    "Z_p_ = np.stack([Z_[..., i*1000:(i + 1)*1000] for i in range(N_days)])\n",
    "W_p_ = np.stack([W_[..., i*1000:(i + 1)*1000] for i in range(N_days)])\n",
    "print(W_p_.shape, Z_p_.shape)"
   ]
  },
  {
   "cell_type": "code",
   "execution_count": 352,
   "id": "fc7dcb14-c661-4bbb-93f5-bcc70a05056c",
   "metadata": {},
   "outputs": [
    {
     "name": "stdout",
     "output_type": "stream",
     "text": [
      "(24, 1000, 8, 25) (24, 1000, 8, 25) (24, 1000, 8, 25) (24, 1000, 8, 25) (24, 1000, 8, 25)\n",
      "(1000, 24, 25) (1000, 24, 25) (1000, 24, 25) (1000, 24, 25) (1000, 24, 25)\n",
      "(5, 24, 1000, 9, 25) (1000, 4, 25)\n",
      "(25,) (25,)\n"
     ]
    }
   ],
   "source": [
    "with open(path_to_data + 'ProcessedZonalTexas.pkl', 'rb') as handle:\n",
    "    zonalData_ = pickle.load(handle)   \n",
    "        \n",
    "with open(path_to_data + 'ProcessedAggregatedData.pkl', 'rb') as handle:\n",
    "    aggData_ = pickle.load(handle)\n",
    "    \n",
    "print(zonalData_[0].shape, zonalData_[1].shape, zonalData_[2].shape, zonalData_[3].shape, zonalData_[4].shape)\n",
    "print(aggData_[0].shape, aggData_[1].shape, aggData_[2].shape, aggData_[3].shape, aggData_[4].shape)\n",
    "\n",
    "L_ = np.concatenate((np.swapaxes(aggData_[0], 0, 1)[..., np.newaxis, :], zonalData_[0]), axis = 2)\n",
    "S_ = np.concatenate((np.swapaxes(aggData_[1], 0, 1)[..., np.newaxis, :], zonalData_[1]), axis = 2)\n",
    "W_ = np.concatenate((np.swapaxes(aggData_[2], 0, 1)[..., np.newaxis, :], zonalData_[2]), axis = 2)\n",
    "G_ = np.concatenate((np.swapaxes(aggData_[3], 0, 1)[..., np.newaxis, :], zonalData_[3]), axis = 2)\n",
    "N_ = np.concatenate((np.swapaxes(aggData_[4], 0, 1)[..., np.newaxis, :], zonalData_[4]), axis = 2)\n",
    "X_ = np.concatenate((L_[np.newaxis, ...], S_[np.newaxis, ...], W_[np.newaxis, ...], G_[np.newaxis, ...], N_[np.newaxis, ...]), axis = 0)\n",
    "Y_ = zonalData_[5]\n",
    "print(X_.shape, Y_.shape)\n",
    "\n",
    "idx_plot_ = []\n",
    "for i in range(2):\n",
    "    for j in range(4):\n",
    "        idx_plot_.append((i, j))\n",
    "\n",
    "idx_dates_ = np.argsort(dates_)\n",
    "dates_     = np.array(dates_)[idx_dates_]\n",
    "seassons_  = np.array(seassons_)[idx_dates_]\n",
    "print(dates_.shape, seassons_.shape)"
   ]
  },
  {
   "cell_type": "code",
   "execution_count": 353,
   "id": "04cf6887-2639-45f2-9122-ab23e193aa94",
   "metadata": {},
   "outputs": [
    {
     "name": "stdout",
     "output_type": "stream",
     "text": [
      "(4, 5, 1000, 24) (4, 1000) (4, 5, 1000, 10) (4, 5, 1000, 10) ['2018-12-27', '2018-01-02', '2018-02-13', '2018-03-14'] [0, 0, 0, 0]\n"
     ]
    }
   ],
   "source": [
    "dates_p_    = [dates_[i] for i in [24, 0, 2, 5]]\n",
    "seassons_p_ = [seassons_[i] for i in [24, 0, 2, 5]]\n",
    "X_p_        = np.swapaxes(np.stack([X_[2, ..., 1:, i] for i in [24, 0, 2, 5]]), 1, 3)\n",
    "X_pp_       = X_p_[:, zones_, ...]\n",
    "Y_pp_       = np.stack([Y_[..., 2, i] for i in [24, 0, 2, 5]])\n",
    "Z_pp_       = np.swapaxes(np.swapaxes(Z_p_, 1, 2), 2, 3)\n",
    "W_pp_       = np.swapaxes(np.swapaxes(W_p_, 1, 2), 2, 3)\n",
    "print(X_pp_.shape, Y_pp_.shape, Z_pp_.shape, W_pp_.shape, dates_p_, seassons_p_)"
   ]
  },
  {
   "cell_type": "markdown",
   "id": "a1943601-f565-4c32-b619-f72d58a6808e",
   "metadata": {},
   "source": [
    "There should be a set of 1000*M scenarios where M is the number of days (did you use M=5?) and a given feature (say West Wind). Then we rank 5000 scenarios by outlyingness in that feature, and select the 10% top ones. \n",
    "\n",
    "(i) how many of these are for each of the considered days; \n",
    "\n",
    "(ii) how many of them actually have curtailment. This can then be done across different features. \n",
    "\n",
    "Plots are probably not helpful given so many scenarios, quick summary statistics would be easier to understand."
   ]
  },
  {
   "cell_type": "code",
   "execution_count": 354,
   "id": "43697c89-f1f0-4177-af32-0ecab3b95dad",
   "metadata": {},
   "outputs": [
    {
     "name": "stdout",
     "output_type": "stream",
     "text": [
      "(10, 5, 4000)\n"
     ]
    }
   ],
   "source": [
    "print(Z_.shape)"
   ]
  },
  {
   "cell_type": "code",
   "execution_count": 355,
   "id": "d7120d48-df9d-42eb-bb95-a9cfbd0dd8d8",
   "metadata": {},
   "outputs": [],
   "source": [
    "results_  = np.zeros((N_days, N_metrics, len(zones_), 2))\n",
    "extremes_ = np.zeros((N_days))\n",
    "\n",
    "for i_day in range(N_days):\n",
    "    x_ = X_pp_[i_day, ...]\n",
    "    y_ = Y_pp_[i_day, ...]\n",
    "\n",
    "\n",
    "    idx_extreme_  = y_ > 200.\n",
    "\n",
    "    extremes_[i_day] = idx_extreme_.sum()\n",
    "    \n",
    "    for i_metric in range(N_metrics):\n",
    "        z_ = Z_pp_[i_day, ..., i_metric]\n",
    "        w_ = W_pp_[i_day, ..., i_metric]\n",
    "        idx_ = w_ > 0.\n",
    "\n",
    "        for i_zones in range(len(zones_)):\n",
    "            x_p_ = x_[i_zones, ...]\n",
    "            w_p_ = w_[i_zones, ...]\n",
    "            #print(x_p_.shape, w_p_.shape)\n",
    "\n",
    "            idx_selected_ = w_p_ > 0.\n",
    "\n",
    "            union_ = np.intersect1d(np.linspace(0, 999, 1000)[idx_extreme_], np.linspace(0, 999, 1000)[idx_selected_])\n",
    "\n",
    "            results_[i_day, i_metric, i_zones, 0] = idx_selected_.sum()\n",
    "            results_[i_day, i_metric, i_zones, 1] = union_.shape[0]\n"
   ]
  },
  {
   "cell_type": "code",
   "execution_count": 383,
   "id": "8ff78e4b-4e9c-49f0-8b90-5781dc5b3ddb",
   "metadata": {},
   "outputs": [
    {
     "name": "stdout",
     "output_type": "stream",
     "text": [
      "[2, 3, 4, 5, 7] (4, 10, 5, 2)\n",
      "47.0 157.0 6.0\n",
      "47.0 136.0 10.0\n",
      "47.0 197.0 14.0\n",
      "47.0 118.0 10.0\n",
      "47.0 127.0 9.0\n"
     ]
    }
   ],
   "source": [
    "print(zones_, results_.shape)\n",
    "\n",
    "i_metric = 7\n",
    "i_day    = 0\n",
    "\n",
    "for i_zone in range(len(zones_)):\n",
    "    print(extremes_[i_day], results_[i_day, i_metric, i_zone, 0], results_[i_day, i_metric, i_zone, 1])"
   ]
  },
  {
   "cell_type": "code",
   "execution_count": 409,
   "id": "c063928b-53dc-4bf1-bd55-daffbe791cc4",
   "metadata": {},
   "outputs": [],
   "source": [
    "row_ = []\n",
    "for i_day in range(N_days):\n",
    "    for i_zone in range(5):\n",
    "        for i_metric in range(10):\n",
    "            row_.append([dates_[[24, 0, 2, 5][i_day]], zones_p_[[2, 3, 4, 5, 7][i_zone]], metrics_[i_metric], extremes_[i_day], results_[i_day, i_metric, i_zone, 0], results_[i_day, i_metric, i_zone, 1]])\n",
    "        \n",
    "#print(row_)\n",
    "df_ = pd.DataFrame(row_, columns = ['Dates', 'Zones', 'Depth', 'No. Extremes', 'No. Selected', 'No. Detected']).to_csv('all_scenarios_depth.csv')"
   ]
  },
  {
   "cell_type": "code",
   "execution_count": 408,
   "id": "89013db9-dab9-4aef-840f-58e6c7e341fc",
   "metadata": {},
   "outputs": [
    {
     "data": {
      "text/html": [
       "<div>\n",
       "<style scoped>\n",
       "    .dataframe tbody tr th:only-of-type {\n",
       "        vertical-align: middle;\n",
       "    }\n",
       "\n",
       "    .dataframe tbody tr th {\n",
       "        vertical-align: top;\n",
       "    }\n",
       "\n",
       "    .dataframe thead th {\n",
       "        text-align: right;\n",
       "    }\n",
       "</style>\n",
       "<table border=\"1\" class=\"dataframe\">\n",
       "  <thead>\n",
       "    <tr style=\"text-align: right;\">\n",
       "      <th></th>\n",
       "      <th>Dates</th>\n",
       "      <th>Zones</th>\n",
       "      <th>Depth</th>\n",
       "      <th>No. Extremes</th>\n",
       "      <th>No. Selected</th>\n",
       "      <th>No. Detected</th>\n",
       "    </tr>\n",
       "  </thead>\n",
       "  <tbody>\n",
       "    <tr>\n",
       "      <th>0</th>\n",
       "      <td>2018-12-27</td>\n",
       "      <td>Far_West</td>\n",
       "      <td>BD</td>\n",
       "      <td>47.0</td>\n",
       "      <td>163.0</td>\n",
       "      <td>5.0</td>\n",
       "    </tr>\n",
       "    <tr>\n",
       "      <th>1</th>\n",
       "      <td>2018-12-27</td>\n",
       "      <td>Far_West</td>\n",
       "      <td>MBD</td>\n",
       "      <td>47.0</td>\n",
       "      <td>1.0</td>\n",
       "      <td>0.0</td>\n",
       "    </tr>\n",
       "    <tr>\n",
       "      <th>2</th>\n",
       "      <td>2018-12-27</td>\n",
       "      <td>Far_West</td>\n",
       "      <td>DQ</td>\n",
       "      <td>47.0</td>\n",
       "      <td>81.0</td>\n",
       "      <td>4.0</td>\n",
       "    </tr>\n",
       "    <tr>\n",
       "      <th>3</th>\n",
       "      <td>2018-12-27</td>\n",
       "      <td>Far_West</td>\n",
       "      <td>EXD</td>\n",
       "      <td>47.0</td>\n",
       "      <td>101.0</td>\n",
       "      <td>4.0</td>\n",
       "    </tr>\n",
       "    <tr>\n",
       "      <th>4</th>\n",
       "      <td>2018-12-27</td>\n",
       "      <td>Far_West</td>\n",
       "      <td>LID</td>\n",
       "      <td>47.0</td>\n",
       "      <td>266.0</td>\n",
       "      <td>11.0</td>\n",
       "    </tr>\n",
       "    <tr>\n",
       "      <th>...</th>\n",
       "      <td>...</td>\n",
       "      <td>...</td>\n",
       "      <td>...</td>\n",
       "      <td>...</td>\n",
       "      <td>...</td>\n",
       "      <td>...</td>\n",
       "    </tr>\n",
       "    <tr>\n",
       "      <th>195</th>\n",
       "      <td>2018-03-14</td>\n",
       "      <td>West</td>\n",
       "      <td>ERD</td>\n",
       "      <td>68.0</td>\n",
       "      <td>88.0</td>\n",
       "      <td>10.0</td>\n",
       "    </tr>\n",
       "    <tr>\n",
       "      <th>196</th>\n",
       "      <td>2018-03-14</td>\n",
       "      <td>West</td>\n",
       "      <td>HMD</td>\n",
       "      <td>68.0</td>\n",
       "      <td>203.0</td>\n",
       "      <td>20.0</td>\n",
       "    </tr>\n",
       "    <tr>\n",
       "      <th>197</th>\n",
       "      <td>2018-03-14</td>\n",
       "      <td>West</td>\n",
       "      <td>RTD</td>\n",
       "      <td>68.0</td>\n",
       "      <td>121.0</td>\n",
       "      <td>12.0</td>\n",
       "    </tr>\n",
       "    <tr>\n",
       "      <th>198</th>\n",
       "      <td>2018-03-14</td>\n",
       "      <td>West</td>\n",
       "      <td>ID</td>\n",
       "      <td>68.0</td>\n",
       "      <td>0.0</td>\n",
       "      <td>0.0</td>\n",
       "    </tr>\n",
       "    <tr>\n",
       "      <th>199</th>\n",
       "      <td>2018-03-14</td>\n",
       "      <td>West</td>\n",
       "      <td>RPD</td>\n",
       "      <td>68.0</td>\n",
       "      <td>25.0</td>\n",
       "      <td>5.0</td>\n",
       "    </tr>\n",
       "  </tbody>\n",
       "</table>\n",
       "<p>200 rows × 6 columns</p>\n",
       "</div>"
      ],
      "text/plain": [
       "          Dates     Zones Depth  No. Extremes  No. Selected  No. Detected\n",
       "0    2018-12-27  Far_West    BD          47.0         163.0           5.0\n",
       "1    2018-12-27  Far_West   MBD          47.0           1.0           0.0\n",
       "2    2018-12-27  Far_West    DQ          47.0          81.0           4.0\n",
       "3    2018-12-27  Far_West   EXD          47.0         101.0           4.0\n",
       "4    2018-12-27  Far_West   LID          47.0         266.0          11.0\n",
       "..          ...       ...   ...           ...           ...           ...\n",
       "195  2018-03-14      West   ERD          68.0          88.0          10.0\n",
       "196  2018-03-14      West   HMD          68.0         203.0          20.0\n",
       "197  2018-03-14      West   RTD          68.0         121.0          12.0\n",
       "198  2018-03-14      West    ID          68.0           0.0           0.0\n",
       "199  2018-03-14      West   RPD          68.0          25.0           5.0\n",
       "\n",
       "[200 rows x 6 columns]"
      ]
     },
     "metadata": {},
     "output_type": "display_data"
    }
   ],
   "source": [
    "display(df_)"
   ]
  },
  {
   "cell_type": "code",
   "execution_count": null,
   "id": "2dc97cc5-9014-4cad-9943-5a4648453dba",
   "metadata": {},
   "outputs": [],
   "source": []
  }
 ],
 "metadata": {
  "kernelspec": {
   "display_name": "Python 3 (ipykernel)",
   "language": "python",
   "name": "python3"
  },
  "language_info": {
   "codemirror_mode": {
    "name": "ipython",
    "version": 3
   },
   "file_extension": ".py",
   "mimetype": "text/x-python",
   "name": "python",
   "nbconvert_exporter": "python",
   "pygments_lexer": "ipython3",
   "version": "3.8.5"
  }
 },
 "nbformat": 4,
 "nbformat_minor": 5
}
